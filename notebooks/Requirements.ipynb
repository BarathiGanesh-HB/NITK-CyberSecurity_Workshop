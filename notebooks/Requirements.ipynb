{
 "cells": [
  {
   "cell_type": "markdown",
   "metadata": {},
   "source": [
    "# Dependencies\n",
    "\n",
    "### System packages\n",
    "* Python 3.6+\n",
    "* Spark 2.2.0 (Pre-built for Apache Hadoop 2.7 and later)\n",
    "\n",
    "### Python packages\n",
    "* pandas 0.20.2\n",
    "* matplotlib 2.1.0\n",
    "* seaborn 0.8.1\n",
    "* numpy 1.13.3\n",
    "* scikit-learn 0.19.1\n",
    "* nltk 3.2.5\n",
    "* datasketch 1.2.5\n",
    "* tensorflow 1.4.0\n",
    "* keras 2.1.1\n",
    "* pyflux 0.4.15\n",
    "* imbalanced-learn 0.3.1\n",
    "* spark-sklearn 0.2.3\n",
    "* lime 0.1.1.21\n",
    "* xgboost\n",
    "\n",
    "# References \n",
    "* All codes and data is taken from below links\n",
    "1. https://www.mlsec.net\n",
    "2. https://github.com/oreilly-mlsec/book-resources"
   ]
  },
  {
   "cell_type": "code",
   "execution_count": null,
   "metadata": {},
   "outputs": [],
   "source": []
  }
 ],
 "metadata": {
  "kernelspec": {
   "display_name": "projectname",
   "language": "python",
   "name": "projectname"
  },
  "language_info": {
   "codemirror_mode": {
    "name": "ipython",
    "version": 3
   },
   "file_extension": ".py",
   "mimetype": "text/x-python",
   "name": "python",
   "nbconvert_exporter": "python",
   "pygments_lexer": "ipython3",
   "version": "3.6.8"
  }
 },
 "nbformat": 4,
 "nbformat_minor": 2
}
