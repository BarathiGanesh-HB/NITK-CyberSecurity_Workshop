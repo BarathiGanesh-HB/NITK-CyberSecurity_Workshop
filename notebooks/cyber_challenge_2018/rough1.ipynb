{
 "cells": [
  {
   "cell_type": "code",
   "execution_count": 1,
   "metadata": {},
   "outputs": [
    {
     "name": "stderr",
     "output_type": "stream",
     "text": [
      "/home/hbbg/shyam_works/vir_env/lib/python3.6/site-packages/sklearn/externals/joblib/__init__.py:15: DeprecationWarning: sklearn.externals.joblib is deprecated in 0.21 and will be removed in 0.23. Please import this functionality directly from joblib, which can be installed with: pip install joblib. If this warning is raised when loading pickled models, you may need to re-serialize those models with scikit-learn 0.21+.\n",
      "  warnings.warn(msg, category=DeprecationWarning)\n",
      "/home/hbbg/shyam_works/vir_env/lib/python3.6/site-packages/ipykernel_launcher.py:43: FutureWarning: Method .as_matrix will be removed in a future version. Use .values instead.\n",
      "/home/hbbg/shyam_works/vir_env/lib/python3.6/site-packages/sklearn/preprocessing/_encoders.py:415: FutureWarning: The handling of integer data will change in version 0.22. Currently, the categories are determined based on the range [0, max(values)], while in the future they will be determined based on the unique values.\n",
      "If you want the future behaviour and silence this warning, you can specify \"categories='auto'\".\n",
      "In case you used a LabelEncoder before this OneHotEncoder to convert the categories to integers, then you can now use the OneHotEncoder directly.\n",
      "  warnings.warn(msg, FutureWarning)\n",
      "/home/hbbg/shyam_works/vir_env/lib/python3.6/site-packages/ipykernel_launcher.py:51: FutureWarning: Method .as_matrix will be removed in a future version. Use .values instead.\n",
      "/home/hbbg/shyam_works/vir_env/lib/python3.6/site-packages/ipykernel_launcher.py:53: FutureWarning: Method .as_matrix will be removed in a future version. Use .values instead.\n",
      "/home/hbbg/shyam_works/vir_env/lib/python3.6/site-packages/ipykernel_launcher.py:113: FutureWarning: Method .as_matrix will be removed in a future version. Use .values instead.\n",
      "/home/hbbg/shyam_works/vir_env/lib/python3.6/site-packages/ipykernel_launcher.py:119: FutureWarning: Method .as_matrix will be removed in a future version. Use .values instead.\n"
     ]
    }
   ],
   "source": [
    "import pandas as pd\n",
    "import numpy as np\n",
    "from sklearn.model_selection import train_test_split\n",
    "from xgboost import XGBClassifier\n",
    "from sklearn.metrics import average_precision_score,precision_recall_curve,f1_score,accuracy_score\n",
    "from sklearn.preprocessing import LabelEncoder,OneHotEncoder\n",
    "from sklearn.externals import joblib\n",
    "\n",
    "\n",
    "data_train = pd.read_csv(\"train.csv\")\n",
    "\n",
    "###Replace Missing Values with median for catagorical Columns\n",
    "\n",
    "\n",
    "data_train.B.fillna(28.17,inplace = True)\n",
    "data_train.N.fillna(152,inplace = True)\n",
    "\n",
    "#Treating Missing Value as a neew_catagory for catagorial columns\n",
    "\n",
    "data_train.fillna('NN',inplace = True)\n",
    "\n",
    "### saving the target varaible\n",
    "\n",
    "target = data_train.P\n",
    "\n",
    "### Columns D is same as E so we can drop any of them. Here dropping D and Keeping E.\n",
    "### Column J is irrevent for this classification problem. So drop J.\n",
    "data_train.drop(['D','J','P'],axis =1,inplace =True)\n",
    "\n",
    "\n",
    "data_train_int = data_train.select_dtypes(include=['float64','int64']).copy()\n",
    "\n",
    "data_train_cat = data_train.select_dtypes(include=['object']).copy()\n",
    "\n",
    "train_colums = data_train_cat.columns\n",
    "label_dict ={}\n",
    "\n",
    "for each in train_colums:\n",
    "    la = LabelEncoder().fit(data_train_cat[each])\n",
    "    data_train_cat[each] = la.transform(data_train_cat[each])\n",
    "   \n",
    "    label_dict[each] = la\n",
    "data_train_cat = data_train_cat.as_matrix()\n",
    "\n",
    "\n",
    "one_he = OneHotEncoder()\n",
    "\n",
    "\n",
    "data_train_X =one_he.fit_transform(data_train_cat)\n",
    "data_train_X =data_train_X.toarray()\n",
    "data_train_int = data_train_int.as_matrix()\n",
    "X_train = np.concatenate((data_train_int[:,1::],data_train_X ), axis=1)\n",
    "Y_train = target.as_matrix()\n",
    "#X = np.concatenate((data_train_int[:,1::],data_train_X ), axis=1)\n",
    "#Y = target.as_matrix()\n",
    "\n",
    "#from sklearn.model_selection import train_test_split\n",
    "#seed = 10\n",
    "#test_size = 0.3\n",
    "#X_train, X_test, y_train, y_test = train_test_split(X, Y, random_state=seed)\n",
    "#X_train = X_train_al[:,1:data_set_one_hot.shape[1]]\n",
    "#X_test = X_test_al[:,1:data_set_one_hot.shape[1]]\n",
    "\n",
    "\n",
    "\n",
    "xgb_model = XGBClassifier(booster='gbtree',max_depth=4,n_estimators=1000,learning_rate=0.055)\n",
    "xgb_model.fit(X_train, Y_train)\n",
    "\n",
    "#model = XGBClassifier(booster='gbtree',max_depth=4,n_estimators=900,learning_rate=0.055)\n",
    "#model.fit(X_train, y_train)\n",
    "#y_pred = model.predict(X_test)\n",
    "#predictions = [round(value) for value in y_pred]\n",
    "#accuracy = accuracy_score(y_test, y_pred)\n",
    "#print(\"Accuracy: %.2f%%\" % (accuracy * 100.0))\n",
    "\n",
    "\n",
    "### Saving the Model for future usage\n",
    "filename = 'MMT_classification_final.pkl'\n",
    "joblib.dump(xgb_model, filename)\n",
    "\n",
    "\n",
    "\n",
    "\n",
    "\n",
    "\n",
    "data_test = pd.read_csv(\"test.csv\")\n",
    "\n",
    "ids_list = data_test.id\n",
    "\n",
    "data_test.drop(['D','J','id'],axis =1,inplace =True)\n",
    "data_test.B.fillna(28.17,inplace = True)\n",
    "data_test.N.fillna(152,inplace = True)\n",
    "\n",
    "\n",
    "data_test.fillna('NN',inplace = True)\n",
    "\n",
    "\n",
    "\n",
    "\n",
    "\n",
    "data_test_int = data_test.select_dtypes(include=['float64','int64']).copy()\n",
    "\n",
    "data_test_cat = data_test.select_dtypes(include=['object']).copy()\n",
    "\n",
    "test_colums = data_test_cat.columns\n",
    "\n",
    "for each in test_colums:\n",
    "    la = label_dict[each]\n",
    "    data_test_cat[each] = la.transform(data_test_cat[each])\n",
    "   \n",
    "   \n",
    "\n",
    "data_test_cat = data_test_cat.as_matrix()\n",
    "\n",
    "\n",
    "\n",
    "data_test_X =one_he.transform(data_test_cat)\n",
    "data_test_X =data_test_X.toarray()\n",
    "data_test_int = data_test_int.as_matrix()\n",
    "X_test = np.concatenate((data_test_int,data_test_X ), axis=1)\n",
    "\n",
    "\n",
    "\n",
    "# some time later...\n",
    "\n",
    "# load the model from disk\n",
    "#loaded_model = joblib.load(filename)\n",
    "#result = loaded_model.score(X_test, Y_test)\n",
    "#print(result)\n",
    "\n",
    "\n",
    "predicted_class = xgb_model.predict(X_test)\n",
    "\n",
    "\n",
    "result = pd.DataFrame({'id': ids_list,'P': predicted_class},columns =['id','P'])\n",
    "result.to_csv('submission.csv',index = False)"
   ]
  },
  {
   "cell_type": "code",
   "execution_count": 2,
   "metadata": {},
   "outputs": [
    {
     "data": {
      "text/plain": [
       "id    int64\n",
       "P     int64\n",
       "dtype: object"
      ]
     },
     "execution_count": 2,
     "metadata": {},
     "output_type": "execute_result"
    }
   ],
   "source": [
    "result.dtypes"
   ]
  },
  {
   "cell_type": "code",
   "execution_count": 3,
   "metadata": {},
   "outputs": [],
   "source": [
    "aa =  pd.read_csv(\"sample_submission.csv\")"
   ]
  },
  {
   "cell_type": "code",
   "execution_count": 4,
   "metadata": {},
   "outputs": [
    {
     "data": {
      "text/plain": [
       "id    int64\n",
       "P     int64\n",
       "dtype: object"
      ]
     },
     "execution_count": 4,
     "metadata": {},
     "output_type": "execute_result"
    }
   ],
   "source": [
    "aa.dtypes"
   ]
  },
  {
   "cell_type": "code",
   "execution_count": null,
   "metadata": {
    "collapsed": true
   },
   "outputs": [],
   "source": []
  }
 ],
 "metadata": {
  "kernelspec": {
   "display_name": "projectname",
   "language": "python",
   "name": "projectname"
  },
  "language_info": {
   "codemirror_mode": {
    "name": "ipython",
    "version": 3
   },
   "file_extension": ".py",
   "mimetype": "text/x-python",
   "name": "python",
   "nbconvert_exporter": "python",
   "pygments_lexer": "ipython3",
   "version": "3.6.8"
  }
 },
 "nbformat": 4,
 "nbformat_minor": 2
}
